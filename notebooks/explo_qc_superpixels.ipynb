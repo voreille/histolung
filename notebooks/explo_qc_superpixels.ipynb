{
 "cells": [
  {
   "cell_type": "code",
   "execution_count": 30,
   "metadata": {},
   "outputs": [],
   "source": [
    "from pathlib import Path\n",
    "import random\n",
    "\n",
    "import pandas as pd"
   ]
  },
  {
   "cell_type": "code",
   "execution_count": 9,
   "metadata": {},
   "outputs": [],
   "source": [
    "CPTAC_PATH = Path(\"/mnt/nas6/data/CPTAC\")"
   ]
  },
  {
   "cell_type": "code",
   "execution_count": 2,
   "metadata": {},
   "outputs": [],
   "source": [
    "df = pd.read_csv(\"/home/valentin/workspaces/histolung/superpixel_qc_per_wsi.csv\")"
   ]
  },
  {
   "cell_type": "code",
   "execution_count": 6,
   "metadata": {},
   "outputs": [],
   "source": [
    "test_df = pd.read_csv(\"/home/valentin/workspaces/histolung/data/metadata/cptac_test.csv\")\n",
    "test_wsi_ids = list(test_df[\"Slide_ID\"].values)\n",
    " "
   ]
  },
  {
   "cell_type": "code",
   "execution_count": 3,
   "metadata": {},
   "outputs": [],
   "source": [
    "# Define the acceptable range for MPP at 40x\n",
    "lower_bound = 0.21\n",
    "upper_bound = 0.29\n",
    "\n",
    "# Filter rows where norm_mpp_x or norm_mpp_y are outside the acceptable range\n",
    "outliers_mpp = df[(df[\"norm_mpp_x\"] < lower_bound) |\n",
    "                  (df[\"norm_mpp_x\"] > upper_bound) |\n",
    "                  (df[\"norm_mpp_y\"] < lower_bound) |\n",
    "                  (df[\"norm_mpp_y\"] > upper_bound)]\n"
   ]
  },
  {
   "cell_type": "code",
   "execution_count": 41,
   "metadata": {},
   "outputs": [
    {
     "name": "stdout",
     "output_type": "stream",
     "text": [
      "['C3L-01924-25', 'C3L-01924-21', 'C3L-01924-27', 'C3L-01924-23', 'C3L-01924-22', 'C3L-01924-24', 'C3L-01924-28', 'TCGA-05-4430-01Z-00-DX1', 'TCGA-05-4415-01Z-00-DX1', 'TCGA-05-4402-01Z-00-DX1', 'TCGA-05-4427-01Z-00-DX1', 'TCGA-05-4245-01Z-00-DX1', 'TCGA-05-4422-01Z-00-DX1', 'TCGA-05-4250-01Z-00-DX1', 'TCGA-05-4398-01Z-00-DX1', 'TCGA-05-4395-01Z-00-DX1', 'TCGA-05-4418-01Z-00-DX1', 'TCGA-05-4424-01Z-00-DX1', 'TCGA-05-4434-01Z-00-DX1', 'TCGA-05-4433-01Z-00-DX1', 'TCGA-05-4397-01Z-00-DX1', 'TCGA-05-4426-01Z-00-DX1', 'TCGA-05-4432-01Z-00-DX1', 'TCGA-05-4382-01Z-00-DX1', 'TCGA-05-4244-01Z-00-DX1', 'TCGA-05-4417-01Z-00-DX1', 'TCGA-05-4403-01Z-00-DX1', 'TCGA-05-4249-01Z-00-DX1', 'TCGA-05-4420-01Z-00-DX1', 'TCGA-05-4396-01Z-00-DX1', 'TCGA-05-4405-01Z-00-DX1']\n"
     ]
    }
   ],
   "source": [
    "print(outliers_mpp[\"wsi_id\"].to_list())"
   ]
  },
  {
   "cell_type": "code",
   "execution_count": 7,
   "metadata": {},
   "outputs": [
    {
     "data": {
      "text/html": [
       "<div>\n",
       "<style scoped>\n",
       "    .dataframe tbody tr th:only-of-type {\n",
       "        vertical-align: middle;\n",
       "    }\n",
       "\n",
       "    .dataframe tbody tr th {\n",
       "        vertical-align: top;\n",
       "    }\n",
       "\n",
       "    .dataframe thead th {\n",
       "        text-align: right;\n",
       "    }\n",
       "</style>\n",
       "<table border=\"1\" class=\"dataframe\">\n",
       "  <thead>\n",
       "    <tr style=\"text-align: right;\">\n",
       "      <th></th>\n",
       "      <th>wsi_id</th>\n",
       "      <th>mean_superpixel_area</th>\n",
       "      <th>magnification</th>\n",
       "      <th>mpp_x</th>\n",
       "      <th>mpp_y</th>\n",
       "      <th>norm_mpp_x</th>\n",
       "      <th>norm_mpp_y</th>\n",
       "    </tr>\n",
       "  </thead>\n",
       "  <tbody>\n",
       "    <tr>\n",
       "      <th>2045</th>\n",
       "      <td>C3L-01924-27</td>\n",
       "      <td>477175.129445</td>\n",
       "      <td>20.0</td>\n",
       "      <td>0.322500</td>\n",
       "      <td>0.322500</td>\n",
       "      <td>0.161250</td>\n",
       "      <td>0.161250</td>\n",
       "    </tr>\n",
       "    <tr>\n",
       "      <th>2450</th>\n",
       "      <td>C3L-01924-28</td>\n",
       "      <td>450295.957998</td>\n",
       "      <td>20.0</td>\n",
       "      <td>0.322503</td>\n",
       "      <td>0.322503</td>\n",
       "      <td>0.161251</td>\n",
       "      <td>0.161251</td>\n",
       "    </tr>\n",
       "  </tbody>\n",
       "</table>\n",
       "</div>"
      ],
      "text/plain": [
       "            wsi_id  mean_superpixel_area  magnification     mpp_x     mpp_y  \\\n",
       "2045  C3L-01924-27         477175.129445           20.0  0.322500  0.322500   \n",
       "2450  C3L-01924-28         450295.957998           20.0  0.322503  0.322503   \n",
       "\n",
       "      norm_mpp_x  norm_mpp_y  \n",
       "2045    0.161250    0.161250  \n",
       "2450    0.161251    0.161251  "
      ]
     },
     "execution_count": 7,
     "metadata": {},
     "output_type": "execute_result"
    }
   ],
   "source": [
    "outliers_mpp[outliers_mpp[\"wsi_id\"].isin(test_wsi_ids)]"
   ]
  },
  {
   "cell_type": "code",
   "execution_count": 10,
   "metadata": {},
   "outputs": [],
   "source": [
    "wsi_ids = [f.stem.split(\".\")[0] for f in CPTAC_PATH.rglob(\"*.svs\")]"
   ]
  },
  {
   "cell_type": "code",
   "execution_count": 12,
   "metadata": {},
   "outputs": [],
   "source": [
    "train_wsi_ids = [wsi_id for wsi_id in wsi_ids if wsi_id not in test_wsi_ids]"
   ]
  },
  {
   "cell_type": "code",
   "execution_count": 14,
   "metadata": {},
   "outputs": [
    {
     "data": {
      "text/plain": [
       "False"
      ]
     },
     "execution_count": 14,
     "metadata": {},
     "output_type": "execute_result"
    }
   ],
   "source": [
    "\"C3L-00095-26\" in test_wsi_ids"
   ]
  },
  {
   "cell_type": "code",
   "execution_count": 16,
   "metadata": {},
   "outputs": [],
   "source": [
    "cptac_luad_metadata = pd.read_csv(\"/mnt/nas6/data/CPTAC/TCIA_CPTAC_LUAD_Pathology_Data_Table.csv\")"
   ]
  },
  {
   "cell_type": "code",
   "execution_count": 17,
   "metadata": {},
   "outputs": [
    {
     "data": {
      "text/plain": [
       "Index(['Case_ID', 'Specimen_ID', 'Slide_ID', 'Embedding_Medium', 'Pathology',\n",
       "       'HasRadiology', 'Radiology', 'Genomics_Available', 'Genomics',\n",
       "       'GDC_Link', 'Proteomics_Available', 'Proteomics', 'PDC_Link', 'Tumor',\n",
       "       'Disease_Type', 'Topographic_Site', 'Specimen_Type', 'Weight',\n",
       "       'Tumor_Site', 'Tumor_Histological_Type', 'Tumor_Segment_Acceptable',\n",
       "       'Percent_Tumor_Nuclei', 'Percent_Total_Cellularity', 'Percent_Necrosis',\n",
       "       'Normal_Segment_Free_of_Tumor', 'Gender', 'Age', 'Ethnicity', 'Race',\n",
       "       'Vital_status_at_12months_follow_up',\n",
       "       'Vital_status_at_24months_follow_up', 'Last_Known_vital_status'],\n",
       "      dtype='object')"
      ]
     },
     "execution_count": 17,
     "metadata": {},
     "output_type": "execute_result"
    }
   ],
   "source": [
    "cptac_luad_metadata.columns"
   ]
  },
  {
   "cell_type": "code",
   "execution_count": 25,
   "metadata": {},
   "outputs": [],
   "source": [
    "candidate_wsi_ids = cptac_luad_metadata[cptac_luad_metadata[\"Specimen_Type\"]==\"normal_tissue\"][\"Slide_ID\"].to_list()"
   ]
  },
  {
   "cell_type": "code",
   "execution_count": 27,
   "metadata": {},
   "outputs": [],
   "source": [
    "candidate_wsi_ids = [wsi_id for wsi_id in candidate_wsi_ids if wsi_id in train_wsi_ids]"
   ]
  },
  {
   "cell_type": "code",
   "execution_count": 28,
   "metadata": {},
   "outputs": [
    {
     "data": {
      "text/plain": [
       "315"
      ]
     },
     "execution_count": 28,
     "metadata": {},
     "output_type": "execute_result"
    }
   ],
   "source": [
    "len(candidate_wsi_ids)"
   ]
  },
  {
   "cell_type": "code",
   "execution_count": 35,
   "metadata": {},
   "outputs": [
    {
     "data": {
      "text/plain": [
       "'C3L-04033-27'"
      ]
     },
     "execution_count": 35,
     "metadata": {},
     "output_type": "execute_result"
    }
   ],
   "source": [
    "random.choice(candidate_wsi_ids)"
   ]
  },
  {
   "cell_type": "code",
   "execution_count": 39,
   "metadata": {},
   "outputs": [
    {
     "data": {
      "text/plain": [
       "'C3N-00199-27'"
      ]
     },
     "execution_count": 39,
     "metadata": {},
     "output_type": "execute_result"
    }
   ],
   "source": [
    "\n",
    "random.choice(candidate_wsi_ids)"
   ]
  },
  {
   "cell_type": "code",
   "execution_count": null,
   "metadata": {},
   "outputs": [],
   "source": []
  }
 ],
 "metadata": {
  "kernelspec": {
   "display_name": "torchpl",
   "language": "python",
   "name": "python3"
  },
  "language_info": {
   "codemirror_mode": {
    "name": "ipython",
    "version": 3
   },
   "file_extension": ".py",
   "mimetype": "text/x-python",
   "name": "python",
   "nbconvert_exporter": "python",
   "pygments_lexer": "ipython3",
   "version": "3.11.0"
  }
 },
 "nbformat": 4,
 "nbformat_minor": 2
}
