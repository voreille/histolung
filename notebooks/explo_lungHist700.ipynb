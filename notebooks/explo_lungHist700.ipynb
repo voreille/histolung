{
 "cells": [
  {
   "cell_type": "code",
   "execution_count": 1,
   "metadata": {},
   "outputs": [],
   "source": [
    "import os\n",
    "from pathlib import Path\n",
    "\n",
    "import pandas as pd\n",
    "from dotenv import load_dotenv\n",
    "from sklearn.model_selection import StratifiedGroupKFold\n",
    "\n",
    "load_dotenv()\n",
    "input_folder = Path(os.getenv(\"LUNGHIST700_RAW\"))"
   ]
  },
  {
   "cell_type": "code",
   "execution_count": 2,
   "metadata": {},
   "outputs": [],
   "source": [
    "label_mapping = {\n",
    "    \"aca_bd\": 0,\n",
    "    \"aca_md\": 1,\n",
    "    \"aca_pd\": 2,\n",
    "    \"nor\": 3,\n",
    "    \"scc_bd\": 4,\n",
    "    \"scc_md\": 5,\n",
    "    \"scc_pd\": 6,\n",
    "}"
   ]
  },
  {
   "cell_type": "code",
   "execution_count": 3,
   "metadata": {},
   "outputs": [],
   "source": [
    "metadata = pd.read_csv(input_folder / \"data/data.csv\")"
   ]
  },
  {
   "cell_type": "code",
   "execution_count": 4,
   "metadata": {},
   "outputs": [],
   "source": [
    "metadata['filename'] = metadata.apply(\n",
    "    lambda row: \"_\".join([str(row[col]) for col in ['superclass', 'subclass', 'resolution', 'image_id'] if pd.notna(row[col])]),\n",
    "    axis=1\n",
    ")"
   ]
  },
  {
   "cell_type": "code",
   "execution_count": 5,
   "metadata": {},
   "outputs": [],
   "source": [
    "metadata['class_name'] = metadata.apply(\n",
    "    lambda row: f\"{row['superclass']}_{row['subclass']}\" if pd.notna(row['subclass']) else row['superclass'], \n",
    "    axis=1\n",
    ")"
   ]
  },
  {
   "cell_type": "code",
   "execution_count": 6,
   "metadata": {},
   "outputs": [],
   "source": [
    "metadata['label'] = metadata['class_name'].map(label_mapping)"
   ]
  },
  {
   "cell_type": "code",
   "execution_count": null,
   "metadata": {},
   "outputs": [],
   "source": [
    "print(metadata)"
   ]
  },
  {
   "cell_type": "code",
   "execution_count": null,
   "metadata": {},
   "outputs": [],
   "source": [
    "metadata[metadata[\"patient_id\"]==21]"
   ]
  },
  {
   "cell_type": "code",
   "execution_count": 12,
   "metadata": {},
   "outputs": [],
   "source": [
    "# Initialize StratifiedGroupKFold\n",
    "n_splits = 5  # Number of folds\n",
    "sgkf = StratifiedGroupKFold(n_splits=n_splits, shuffle=True, random_state=42)\n",
    "\n",
    "# Split data into folds\n",
    "folds = []\n",
    "for train_idx, test_idx in sgkf.split(metadata, metadata['label'], groups=metadata['patient_id']):\n",
    "    train_data = metadata.iloc[train_idx]\n",
    "    test_data = metadata.iloc[test_idx]\n",
    "    folds.append((train_data, test_data))\n",
    "\n"
   ]
  },
  {
   "cell_type": "code",
   "execution_count": null,
   "metadata": {},
   "outputs": [],
   "source": [
    "# Example: View one fold\n",
    "for fold in range(n_splits):\n",
    "    fold_1_train, fold_1_test = folds[fold]\n",
    "    patient_id_test = set(fold_1_test[\"patient_id\"].unique())\n",
    "    patient_id_train = set(fold_1_train[\"patient_id\"].unique())\n",
    "    print(f\"intersection :{patient_id_train.intersection(patient_id_test)}\")"
   ]
  },
  {
   "cell_type": "code",
   "execution_count": null,
   "metadata": {},
   "outputs": [],
   "source": []
  }
 ],
 "metadata": {
  "kernelspec": {
   "display_name": "histolung",
   "language": "python",
   "name": "python3"
  },
  "language_info": {
   "codemirror_mode": {
    "name": "ipython",
    "version": 3
   },
   "file_extension": ".py",
   "mimetype": "text/x-python",
   "name": "python",
   "nbconvert_exporter": "python",
   "pygments_lexer": "ipython3",
   "version": "3.11.0"
  }
 },
 "nbformat": 4,
 "nbformat_minor": 2
}
