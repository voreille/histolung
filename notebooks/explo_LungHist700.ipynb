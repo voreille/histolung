{
 "cells": [
  {
   "cell_type": "code",
   "execution_count": 1,
   "metadata": {},
   "outputs": [],
   "source": [
    "from pathlib import Path\n",
    "import pandas as pd\n",
    "from PIL import Image"
   ]
  },
  {
   "cell_type": "code",
   "execution_count": 2,
   "metadata": {},
   "outputs": [],
   "source": [
    "folder_path = Path(\"/home/valentin/workspaces/histolung/data/raw/LungHist700/data/images\")"
   ]
  },
  {
   "cell_type": "code",
   "execution_count": null,
   "metadata": {},
   "outputs": [],
   "source": [
    "# Initialize an empty list to store file information\n",
    "file_info = []\n",
    "\n",
    "# Iterate through all .jpg files in subfolders\n",
    "for file in folder_path.rglob(\"*.jpg\"):\n",
    "    # Extract the file name\n",
    "    filename = file.stem  # Get the file name without extension\n",
    "    \n",
    "    # Split the file name into parts\n",
    "    parts = filename.split(\"_\")\n",
    "    \n",
    "    # Handle normal images (missing differentiation field)\n",
    "    if len(parts) == 3 and parts[0] == \"nor\":\n",
    "        cancer_type = parts[0]\n",
    "        magnification = int(parts[1].replace(\"x\", \"\"))\n",
    "        differentiation = None  # Normal images don't have differentiation\n",
    "    # Handle images with differentiation\n",
    "    elif len(parts) == 4:\n",
    "        cancer_type, differentiation, magnification, image_id = parts\n",
    "        magnification = int(magnification.replace(\"x\", \"\"))\n",
    "    else:\n",
    "        print(f\"Skipping file with unexpected format: {file}\")\n",
    "        continue\n",
    "    \n",
    "    # Get the dimensions of the image\n",
    "    try:\n",
    "        with Image.open(file) as img:\n",
    "            width, height = img.size\n",
    "    except Exception as e:\n",
    "        print(f\"Error reading file {file}: {e}\")\n",
    "        continue\n",
    "    \n",
    "    # Append the file information to the list\n",
    "    file_info.append({\n",
    "        \"filename\": file.name,\n",
    "        \"filepath\": str(file),\n",
    "        \"cancer_type\": cancer_type,\n",
    "        \"differentiation\": differentiation,\n",
    "        \"magnification\": magnification,\n",
    "        \"width\": width,\n",
    "        \"height\": height\n",
    "    })\n",
    "\n",
    "# Create a DataFrame from the collected information\n",
    "df = pd.DataFrame(file_info)\n",
    "\n",
    "# Display the first few rows of the DataFrame in the notebook\n",
    "df.head()\n",
    "\n",
    "# Optional: Save the DataFrame to a CSV file\n",
    "df.to_csv(\"image_metadata.csv\", index=False)\n",
    "print(\"Metadata saved to image_metadata.csv\")"
   ]
  },
  {
   "cell_type": "code",
   "execution_count": null,
   "metadata": {},
   "outputs": [],
   "source": [
    "df.head()"
   ]
  },
  {
   "cell_type": "code",
   "execution_count": null,
   "metadata": {},
   "outputs": [],
   "source": [
    "import matplotlib.pyplot as plt\n",
    "\n",
    "# Define the columns to plot\n",
    "columns_to_plot = [\"cancer_type\", \"differentiation\", \"magnification\", \"width\", \"height\"]\n",
    "\n",
    "# Create a histogram or bar plot for each column\n",
    "for column in columns_to_plot:\n",
    "    plt.figure(figsize=(8, 5))\n",
    "    if df[column].dtype == \"object\" or df[column].isnull().any():\n",
    "        # For categorical columns, create a bar plot\n",
    "        df[column].fillna(\"None\").value_counts().plot(kind=\"bar\")\n",
    "        plt.xlabel(column)\n",
    "        plt.ylabel(\"Count\")\n",
    "        plt.title(f\"Distribution of {column}\")\n",
    "    else:\n",
    "        # For numerical columns, create a histogram\n",
    "        df[column].plot(kind=\"hist\", bins=10, edgecolor=\"black\")\n",
    "        plt.xlabel(column)\n",
    "        plt.ylabel(\"Frequency\")\n",
    "        plt.title(f\"Distribution of {column}\")\n",
    "    plt.grid(axis='y', linestyle='--', alpha=0.7)\n",
    "    plt.show()\n"
   ]
  },
  {
   "cell_type": "code",
   "execution_count": null,
   "metadata": {},
   "outputs": [],
   "source": []
  }
 ],
 "metadata": {
  "kernelspec": {
   "display_name": "histolung",
   "language": "python",
   "name": "python3"
  },
  "language_info": {
   "codemirror_mode": {
    "name": "ipython",
    "version": 3
   },
   "file_extension": ".py",
   "mimetype": "text/x-python",
   "name": "python",
   "nbconvert_exporter": "python",
   "pygments_lexer": "ipython3",
   "version": "3.11.0"
  }
 },
 "nbformat": 4,
 "nbformat_minor": 2
}
