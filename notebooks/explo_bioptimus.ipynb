{
 "cells": [
  {
   "cell_type": "code",
   "execution_count": null,
   "metadata": {},
   "outputs": [],
   "source": [
    "import os\n",
    "\n",
    "from dotenv import load_dotenv\n",
    "from huggingface_hub import login\n",
    "import torch\n",
    "import timm\n",
    "from torchvision import transforms\n",
    "\n",
    "from histolung.evaluation.evaluators import LungHist700Evaluator"
   ]
  },
  {
   "cell_type": "code",
   "execution_count": null,
   "metadata": {},
   "outputs": [],
   "source": [
    "load_dotenv()\n",
    "hugging_face_token = os.getenv('HUGGING_FACE_TOKEN')"
   ]
  },
  {
   "cell_type": "code",
   "execution_count": null,
   "metadata": {},
   "outputs": [],
   "source": [
    "# Login to the Hugging Face hub, using your user access token that can be found here:\n",
    "# https://huggingface.co/settings/tokens.\n",
    "login(token=hugging_face_token)\n",
    "\n",
    "model = timm.create_model(\n",
    "    \"hf-hub:bioptimus/H-optimus-0\", pretrained=True, init_values=1e-5, dynamic_img_size=False\n",
    ")"
   ]
  },
  {
   "cell_type": "code",
   "execution_count": null,
   "metadata": {},
   "outputs": [],
   "source": [
    "model.to(\"cuda\")\n",
    "model.eval()\n",
    "\n",
    "transform = transforms.Compose([\n",
    "    transforms.ToTensor(),\n",
    "    transforms.Normalize(\n",
    "        mean=(0.707223, 0.578729, 0.703617), \n",
    "        std=(0.211883, 0.230117, 0.177517)\n",
    "    ),\n",
    "])\n",
    "\n",
    "input = torch.rand(3, 224, 224)\n",
    "input = transforms.ToPILImage()(input)\n",
    "\n",
    "# We recommend using mixed precision for faster inference.\n",
    "with torch.autocast(device_type=\"cuda\", dtype=torch.float16):\n",
    "    with torch.inference_mode():\n",
    "        features = model(transform(input).unsqueeze(0).to(\"cuda\"))\n",
    "\n",
    "assert features.shape == (1, 1536)"
   ]
  },
  {
   "cell_type": "code",
   "execution_count": null,
   "metadata": {},
   "outputs": [],
   "source": [
    "evaluator = LungHist700Evaluator(\n",
    "    model=model,\n",
    "    transform=transform,\n",
    "    batch_size=32,\n",
    "    num_workers=4,\n",
    "    gpu_id=1,\n",
    ")"
   ]
  }
 ],
 "metadata": {
  "kernelspec": {
   "display_name": "torchpl",
   "language": "python",
   "name": "python3"
  },
  "language_info": {
   "codemirror_mode": {
    "name": "ipython",
    "version": 3
   },
   "file_extension": ".py",
   "mimetype": "text/x-python",
   "name": "python",
   "nbconvert_exporter": "python",
   "pygments_lexer": "ipython3",
   "version": "3.11.0"
  }
 },
 "nbformat": 4,
 "nbformat_minor": 2
}
