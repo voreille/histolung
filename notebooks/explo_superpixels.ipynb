{
 "cells": [
  {
   "cell_type": "code",
   "execution_count": 1,
   "metadata": {},
   "outputs": [],
   "source": [
    "from pathlib import Path\n",
    "\n",
    "import numpy as np\n",
    "import matplotlib.pyplot as plt\n",
    "from skimage import io, segmentation, color\n",
    "from openslide import OpenSlide\n",
    "from PIL import Image\n",
    "from skimage.io import imsave"
   ]
  },
  {
   "cell_type": "code",
   "execution_count": 37,
   "metadata": {},
   "outputs": [],
   "source": [
    "data_path = Path(\"/home/val/test_histoqc/\")\n",
    "image_path = list(data_path.rglob(\"*.svs\"))"
   ]
  },
  {
   "cell_type": "code",
   "execution_count": 38,
   "metadata": {},
   "outputs": [],
   "source": [
    "wsi_image = OpenSlide(image_path[2])\n",
    "rescaling_factor = 100\n",
    "test_image = wsi_image.get_thumbnail(\n",
    "    (wsi_image.dimensions[0] // rescaling_factor,\n",
    "     wsi_image.dimensions[1] // rescaling_factor))\n",
    "test_image = np.array(test_image.convert(\"RGB\"))"
   ]
  },
  {
   "cell_type": "code",
   "execution_count": 39,
   "metadata": {},
   "outputs": [],
   "source": [
    "px_dim = 0.25\n",
    "S_target = (3*224)**2\n",
    "S_image = wsi_image.dimensions[0] * wsi_image.dimensions[1] * px_dim**2\n",
    "num_segments = S_image / S_target"
   ]
  },
  {
   "cell_type": "code",
   "execution_count": 40,
   "metadata": {},
   "outputs": [],
   "source": [
    "num_segments = int(np.round(num_segments))"
   ]
  },
  {
   "cell_type": "code",
   "execution_count": 41,
   "metadata": {},
   "outputs": [],
   "source": [
    "pixel_size = 0.25 * rescaling_factor\n",
    "target_tile_size = 224\n",
    "min_size = target_tile_size / pixel_size"
   ]
  },
  {
   "cell_type": "code",
   "execution_count": null,
   "metadata": {},
   "outputs": [],
   "source": [
    "min_size"
   ]
  },
  {
   "cell_type": "code",
   "execution_count": null,
   "metadata": {},
   "outputs": [],
   "source": [
    "print(f\"Shape of test_image: {test_image.shape}\")"
   ]
  },
  {
   "cell_type": "code",
   "execution_count": null,
   "metadata": {},
   "outputs": [],
   "source": [
    "# num_segments = 400  # Adjust for granularity\n",
    "segments = segmentation.slic(test_image, n_segments=num_segments, compactness=10, sigma=1, start_label=1)\n",
    "# segments = segmentation.felzenszwalb(test_image, scale=100, sigma=1, min_size=int(min_size**2))\n",
    "\n",
    "# Generate random colors for each superpixel\n",
    "unique_segments = np.unique(segments)\n",
    "num_labels = len(unique_segments)\n",
    "\n",
    "# Create a color map (random RGB colors for each label)\n",
    "random_colors = np.random.randint(0, 255, size=(num_labels, 3), dtype=np.uint8)\n",
    "\n",
    "# Create a colored segmentation image\n",
    "colored_segments = np.zeros_like(test_image)  # Placeholder for colored mask\n",
    "for i, label in enumerate(unique_segments):\n",
    "    mask = segments == label  # Find pixels belonging to the current superpixel\n",
    "    colored_segments[mask] = random_colors[i]  # Assign random color\n",
    "\n",
    "\n",
    "superpixel_boundaries = segmentation.mark_boundaries(test_image, segments)\n",
    "superpixel_boundaries = (superpixel_boundaries * 255).astype(np.uint8)  # Convert to 8-bit format\n",
    "\n",
    "# Display the result\n",
    "plt.figure(figsize=(12, 12))\n",
    "plt.subplot(211)\n",
    "plt.imshow(colored_segments)\n",
    "plt.axis(\"off\")\n",
    "plt.title(\"Superpixel Segmentation with Random Colors\")\n",
    "plt.subplot(212)\n",
    "plt.imshow(superpixel_boundaries)\n",
    "plt.axis(\"off\")\n",
    "plt.show()\n"
   ]
  },
  {
   "cell_type": "code",
   "execution_count": null,
   "metadata": {},
   "outputs": [],
   "source": [
    "unique_segments"
   ]
  },
  {
   "cell_type": "code",
   "execution_count": 45,
   "metadata": {},
   "outputs": [],
   "source": [
    "# Save Images\n",
    "imsave(\"test_image.png\", test_image)\n",
    "imsave(\"test_boundaries.png\", superpixel_boundaries)"
   ]
  },
  {
   "cell_type": "code",
   "execution_count": null,
   "metadata": {},
   "outputs": [],
   "source": []
  }
 ],
 "metadata": {
  "kernelspec": {
   "display_name": "torch",
   "language": "python",
   "name": "python3"
  },
  "language_info": {
   "codemirror_mode": {
    "name": "ipython",
    "version": 3
   },
   "file_extension": ".py",
   "mimetype": "text/x-python",
   "name": "python",
   "nbconvert_exporter": "python",
   "pygments_lexer": "ipython3",
   "version": "3.12.7"
  }
 },
 "nbformat": 4,
 "nbformat_minor": 2
}
