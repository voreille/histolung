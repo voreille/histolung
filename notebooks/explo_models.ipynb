{
 "cells": [
  {
   "cell_type": "code",
   "execution_count": null,
   "metadata": {},
   "outputs": [],
   "source": [
    "from pathlib import Path\n",
    "\n",
    "import torch\n",
    "from easydict import EasyDict as edict\n",
    "import yaml\n",
    "import openslide\n",
    "\n",
    "from histolung.models.models import MILModel, PretrainedModelLoader\n",
    "from histolung.legacy.heatmaps import MIL_model\n",
    "from histolung.legacy.models import ModelOption\n",
    "from histolung.utils import yaml_load"
   ]
  },
  {
   "cell_type": "code",
   "execution_count": null,
   "metadata": {},
   "outputs": [],
   "source": [
    "modeldir = Path(\"/home/valentin/workspaces/histolung/models/MIL/f_MIL_res34v2_v2_rumc_best_cosine_v3\").resolve()"
   ]
  },
  {
   "cell_type": "code",
   "execution_count": null,
   "metadata": {},
   "outputs": [],
   "source": [
    "cfg = yaml_load(modeldir / \"config_f_MIL_res34v2_v2_rumc_best_cosine_v3.yml\")"
   ]
  },
  {
   "cell_type": "code",
   "execution_count": null,
   "metadata": {},
   "outputs": [],
   "source": [
    "checkpoint = torch.load(modeldir / \"fold_0\" / \"checkpoint.pt\")"
   ]
  },
  {
   "cell_type": "code",
   "execution_count": null,
   "metadata": {},
   "outputs": [],
   "source": [
    "device = torch.device('cuda:0' if torch.cuda.is_available() else 'cpu')"
   ]
  },
  {
   "cell_type": "code",
   "execution_count": null,
   "metadata": {},
   "outputs": [],
   "source": [
    "model_old = ModelOption(cfg.model.model_name,\n",
    "                        cfg.model.num_classes,\n",
    "                        freeze=cfg.model.freeze_weights,\n",
    "                        num_freezed_layers=cfg.model.num_frozen_layers,\n",
    "                        dropout=cfg.model.dropout,\n",
    "                        embedding_bool=cfg.model.embedding_bool,\n",
    "                        pool_algorithm=cfg.model.pool_algorithm)\n",
    "\n",
    "hidden_space_len = cfg.model.hidden_space_len\n",
    "\n",
    "net_old = MIL_model(model_old, hidden_space_len, cfg)\n",
    "\n",
    "net_old.load_state_dict(checkpoint[\"model_state_dict\"], strict=False)\n",
    "net_old.to(device)\n",
    "net_old.eval()\n",
    "\n"
   ]
  },
  {
   "cell_type": "code",
   "execution_count": null,
   "metadata": {},
   "outputs": [],
   "source": [
    "model = PretrainedModelLoader(cfg.model.model_name,\n",
    "                              cfg.model.num_classes,\n",
    "                              freeze=cfg.model.freeze_weights,\n",
    "                              num_freezed_layers=cfg.model.num_frozen_layers,\n",
    "                              dropout=cfg.model.dropout,\n",
    "                              embedding_bool=cfg.model.embedding_bool,\n",
    "                              pool_algorithm=cfg.model.pool_algorithm)"
   ]
  },
  {
   "cell_type": "code",
   "execution_count": null,
   "metadata": {},
   "outputs": [],
   "source": [
    "hidden_space_len = cfg.model.hidden_space_len\n",
    "net = MILModel(model, hidden_space_len, cfg)"
   ]
  },
  {
   "cell_type": "code",
   "execution_count": null,
   "metadata": {},
   "outputs": [],
   "source": [
    "net.load_state_dict(checkpoint[\"model_state_dict\"], strict=False)\n",
    "net.to(device)\n",
    "net.eval()"
   ]
  },
  {
   "cell_type": "code",
   "execution_count": null,
   "metadata": {},
   "outputs": [],
   "source": [
    "x = torch.rand((1,3,226,226)).to(device)"
   ]
  },
  {
   "cell_type": "code",
   "execution_count": null,
   "metadata": {},
   "outputs": [],
   "source": [
    "emb_old = net_old.net(x)"
   ]
  },
  {
   "cell_type": "code",
   "execution_count": null,
   "metadata": {},
   "outputs": [],
   "source": [
    "def compare_models(model1, model2):\n",
    "    for (name1, param1), (name2, param2) in zip(model1.state_dict().items(), model2.state_dict().items()):\n",
    "        if not torch.equal(param1, param2):\n",
    "            print(f\"Mismatch found in layer: {name1}\")\n",
    "            return False\n",
    "    print(\"The models have the same weights.\")\n",
    "    return True"
   ]
  },
  {
   "cell_type": "code",
   "execution_count": null,
   "metadata": {},
   "outputs": [],
   "source": [
    "compare_models(net.net, net_old.net)"
   ]
  },
  {
   "cell_type": "code",
   "execution_count": null,
   "metadata": {},
   "outputs": [],
   "source": [
    "emb = net.net(x)"
   ]
  },
  {
   "cell_type": "code",
   "execution_count": null,
   "metadata": {},
   "outputs": [],
   "source": [
    "emb_old - emb"
   ]
  },
  {
   "cell_type": "code",
   "execution_count": null,
   "metadata": {},
   "outputs": [],
   "source": [
    "net(x)"
   ]
  },
  {
   "cell_type": "code",
   "execution_count": null,
   "metadata": {},
   "outputs": [],
   "source": [
    "net_old(x,x)"
   ]
  },
  {
   "cell_type": "code",
   "execution_count": null,
   "metadata": {},
   "outputs": [],
   "source": [
    "net.load_state_dict(checkpoint[\"model_state_dict\"], strict=False)"
   ]
  },
  {
   "cell_type": "code",
   "execution_count": null,
   "metadata": {},
   "outputs": [],
   "source": [
    "checkpoint[\"model_state_dict\"]"
   ]
  },
  {
   "cell_type": "code",
   "execution_count": null,
   "metadata": {},
   "outputs": [],
   "source": [
    "net_old.state_dict"
   ]
  },
  {
   "cell_type": "code",
   "execution_count": null,
   "metadata": {},
   "outputs": [],
   "source": [
    "net.state_dict"
   ]
  },
  {
   "cell_type": "code",
   "execution_count": null,
   "metadata": {},
   "outputs": [],
   "source": []
  }
 ],
 "metadata": {
  "kernelspec": {
   "display_name": "histolung",
   "language": "python",
   "name": "python3"
  },
  "language_info": {
   "codemirror_mode": {
    "name": "ipython",
    "version": 3
   },
   "file_extension": ".py",
   "mimetype": "text/x-python",
   "name": "python",
   "nbconvert_exporter": "python",
   "pygments_lexer": "ipython3",
   "version": "3.11.0"
  }
 },
 "nbformat": 4,
 "nbformat_minor": 2
}
