{
 "cells": [
  {
   "cell_type": "code",
   "execution_count": 1,
   "metadata": {},
   "outputs": [],
   "source": [
    "from pathlib import Path\n",
    "\n",
    "from PIL import Image\n",
    "import openslide\n",
    "import numpy as np\n"
   ]
  },
  {
   "cell_type": "code",
   "execution_count": 2,
   "metadata": {},
   "outputs": [],
   "source": [
    "superp_segments_path = Path(\"/home/valentin/workspaces/histolung/data/interim/debug_superpixels/segments/C3L-01285-22_segments.tiff\")"
   ]
  },
  {
   "cell_type": "code",
   "execution_count": 3,
   "metadata": {},
   "outputs": [],
   "source": [
    "superp_mask = Image.open(superp_segments_path)"
   ]
  },
  {
   "cell_type": "code",
   "execution_count": 4,
   "metadata": {},
   "outputs": [],
   "source": [
    "wsi_id = superp_segments_path.stem.replace(\"_segments\",\"\")"
   ]
  },
  {
   "cell_type": "code",
   "execution_count": 5,
   "metadata": {},
   "outputs": [
    {
     "data": {
      "text/plain": [
       "'C3L-01285-22'"
      ]
     },
     "execution_count": 5,
     "metadata": {},
     "output_type": "execute_result"
    }
   ],
   "source": [
    "wsi_id"
   ]
  },
  {
   "cell_type": "code",
   "execution_count": 6,
   "metadata": {},
   "outputs": [],
   "source": [
    "CPTAC_PATH = Path(\"/mnt/nas6/data/CPTAC\")"
   ]
  },
  {
   "cell_type": "code",
   "execution_count": 7,
   "metadata": {},
   "outputs": [
    {
     "name": "stdout",
     "output_type": "stream",
     "text": [
      "found image: /mnt/nas6/data/CPTAC/CPTAC-LSCC_v10/LSCC/C3L-01285-22.svs\n"
     ]
    }
   ],
   "source": [
    "original_image = [f for f in CPTAC_PATH.rglob(f\"{wsi_id}*.svs\")][0]\n",
    "print(f\"found image: {original_image}\")"
   ]
  },
  {
   "cell_type": "code",
   "execution_count": 8,
   "metadata": {},
   "outputs": [],
   "source": [
    "wsi_image = openslide.OpenSlide(original_image)"
   ]
  },
  {
   "cell_type": "code",
   "execution_count": 9,
   "metadata": {},
   "outputs": [
    {
     "data": {
      "text/plain": [
       "(21911, 19128)"
      ]
     },
     "execution_count": 9,
     "metadata": {},
     "output_type": "execute_result"
    }
   ],
   "source": [
    "wsi_image.dimensions"
   ]
  },
  {
   "cell_type": "code",
   "execution_count": 10,
   "metadata": {},
   "outputs": [
    {
     "name": "stdout",
     "output_type": "stream",
     "text": [
      "15.999212129059368\n"
     ]
    }
   ],
   "source": [
    "factor = (wsi_image.dimensions[0] / superp_mask.width +\n",
    "          wsi_image.dimensions[1] / superp_mask.height) * 0.5\n",
    "print(factor)"
   ]
  },
  {
   "cell_type": "code",
   "execution_count": 11,
   "metadata": {},
   "outputs": [
    {
     "name": "stdout",
     "output_type": "stream",
     "text": [
      "0.4942\n"
     ]
    }
   ],
   "source": [
    "mpp_x = float(wsi_image.properties.get(openslide.PROPERTY_NAME_MPP_X))\n",
    "print(mpp_x)"
   ]
  },
  {
   "cell_type": "code",
   "execution_count": 12,
   "metadata": {},
   "outputs": [
    {
     "name": "stdout",
     "output_type": "stream",
     "text": [
      "Magnification: 20x\n"
     ]
    }
   ],
   "source": [
    "magnification = wsi_image.properties.get(openslide.PROPERTY_NAME_OBJECTIVE_POWER)\n",
    "\n",
    "print(f\"Magnification: {magnification}x\")\n"
   ]
  },
  {
   "cell_type": "code",
   "execution_count": 13,
   "metadata": {},
   "outputs": [],
   "source": [
    "np_mask = np.array(superp_mask)\n",
    "labels = np.unique(np_mask)\n",
    " "
   ]
  },
  {
   "cell_type": "code",
   "execution_count": 14,
   "metadata": {},
   "outputs": [],
   "source": [
    "areas = []\n",
    "for label in labels:\n",
    "    areas.append(np.sum(np_mask==label))"
   ]
  },
  {
   "cell_type": "code",
   "execution_count": 15,
   "metadata": {},
   "outputs": [
    {
     "name": "stdout",
     "output_type": "stream",
     "text": [
      "109154.93333333333\n"
     ]
    }
   ],
   "source": [
    "average_area = np.mean(areas)\n",
    "print(average_area)"
   ]
  },
  {
   "cell_type": "code",
   "execution_count": 16,
   "metadata": {},
   "outputs": [
    {
     "name": "stdout",
     "output_type": "stream",
     "text": [
      " average area in micrometer**2: 6824110.398712311\n"
     ]
    }
   ],
   "source": [
    "mask_pix_dim = mpp_x * factor\n",
    "\n",
    "print(f\" average area in micrometer**2: {average_area * mask_pix_dim**2}\")"
   ]
  },
  {
   "cell_type": "code",
   "execution_count": 17,
   "metadata": {},
   "outputs": [
    {
     "name": "stdout",
     "output_type": "stream",
     "text": [
      "451584\n"
     ]
    }
   ],
   "source": [
    "target_average_area = (672)**2\n",
    "print(target_average_area)\n"
   ]
  },
  {
   "cell_type": "code",
   "execution_count": null,
   "metadata": {},
   "outputs": [],
   "source": []
  }
 ],
 "metadata": {
  "kernelspec": {
   "display_name": "histolung",
   "language": "python",
   "name": "python3"
  },
  "language_info": {
   "codemirror_mode": {
    "name": "ipython",
    "version": 3
   },
   "file_extension": ".py",
   "mimetype": "text/x-python",
   "name": "python",
   "nbconvert_exporter": "python",
   "pygments_lexer": "ipython3",
   "version": "3.11.0"
  }
 },
 "nbformat": 4,
 "nbformat_minor": 2
}
