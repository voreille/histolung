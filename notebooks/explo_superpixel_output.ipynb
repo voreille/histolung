{
 "cells": [
  {
   "cell_type": "code",
   "execution_count": 1,
   "metadata": {},
   "outputs": [],
   "source": [
    "from pathlib import Path\n",
    "\n",
    "from PIL import Image\n",
    "import openslide\n",
    "import numpy as np\n"
   ]
  },
  {
   "cell_type": "code",
   "execution_count": 4,
   "metadata": {},
   "outputs": [],
   "source": [
    "superp_segments_path = Path(\"/home/valentin/workspaces/histolung/data/interim/superpixels/cptac_luad/segments/C3L-00001-21_segments.tiff\")"
   ]
  },
  {
   "cell_type": "code",
   "execution_count": 12,
   "metadata": {},
   "outputs": [],
   "source": [
    "mask = np.array(Image.open(superp_segments_path))"
   ]
  },
  {
   "cell_type": "code",
   "execution_count": 16,
   "metadata": {},
   "outputs": [
    {
     "data": {
      "text/plain": [
       "array([  0,  38,  40,  51,  54,  56,  57,  58,  59,  60,  61,  64,  74,\n",
       "        75,  76,  77,  78,  79,  89,  90,  91,  92,  93,  94,  95,  96,\n",
       "        97, 105, 107, 108, 109, 110, 111, 112, 113, 114, 121, 124, 125,\n",
       "       126, 127, 128, 129, 130, 131, 136, 140, 141, 142, 143, 144, 145,\n",
       "       148, 151, 155, 156, 157, 158, 159, 160, 161, 162, 163, 164, 165,\n",
       "       166, 167, 173, 174, 175, 176, 177, 178, 179, 180, 181, 182, 183,\n",
       "       187, 189, 191, 192, 193, 194, 195, 196, 197, 198, 199, 200, 201,\n",
       "       202, 203, 205, 209, 210, 211, 212, 213, 214, 215, 216, 217, 218,\n",
       "       219, 220, 221, 222, 226, 227, 228, 229, 230, 231, 232, 233, 234,\n",
       "       235, 236, 238, 241, 242, 243, 244, 245, 246, 247, 248, 249, 251,\n",
       "       253, 255, 256, 257, 258, 259, 260, 261, 263, 265, 266, 267, 269,\n",
       "       271, 278], dtype=uint16)"
      ]
     },
     "execution_count": 16,
     "metadata": {},
     "output_type": "execute_result"
    }
   ],
   "source": [
    "np.unique(mask)"
   ]
  },
  {
   "cell_type": "code",
   "execution_count": 17,
   "metadata": {},
   "outputs": [],
   "source": [
    "label = 130"
   ]
  },
  {
   "cell_type": "code",
   "execution_count": 20,
   "metadata": {},
   "outputs": [
    {
     "data": {
      "text/plain": [
       "9152"
      ]
     },
     "execution_count": 20,
     "metadata": {},
     "output_type": "execute_result"
    }
   ],
   "source": [
    "len(np.where(mask == label)[0])"
   ]
  },
  {
   "cell_type": "code",
   "execution_count": null,
   "metadata": {},
   "outputs": [],
   "source": []
  },
  {
   "cell_type": "code",
   "execution_count": null,
   "metadata": {},
   "outputs": [],
   "source": []
  },
  {
   "cell_type": "code",
   "execution_count": 4,
   "metadata": {},
   "outputs": [],
   "source": [
    "wsi_id = superp_segments_path.stem.replace(\"_segments\",\"\")"
   ]
  },
  {
   "cell_type": "code",
   "execution_count": 5,
   "metadata": {},
   "outputs": [
    {
     "data": {
      "text/plain": [
       "'C3L-01285-22'"
      ]
     },
     "execution_count": 5,
     "metadata": {},
     "output_type": "execute_result"
    }
   ],
   "source": [
    "wsi_id"
   ]
  },
  {
   "cell_type": "code",
   "execution_count": 6,
   "metadata": {},
   "outputs": [],
   "source": [
    "CPTAC_PATH = Path(\"/mnt/nas6/data/CPTAC\")"
   ]
  },
  {
   "cell_type": "code",
   "execution_count": 7,
   "metadata": {},
   "outputs": [
    {
     "name": "stdout",
     "output_type": "stream",
     "text": [
      "found image: /mnt/nas6/data/CPTAC/CPTAC-LSCC_v10/LSCC/C3L-01285-22.svs\n"
     ]
    }
   ],
   "source": [
    "original_image = [f for f in CPTAC_PATH.rglob(f\"{wsi_id}*.svs\")][0]\n",
    "print(f\"found image: {original_image}\")"
   ]
  },
  {
   "cell_type": "code",
   "execution_count": 8,
   "metadata": {},
   "outputs": [],
   "source": [
    "wsi_image = openslide.OpenSlide(original_image)"
   ]
  },
  {
   "cell_type": "code",
   "execution_count": 9,
   "metadata": {},
   "outputs": [
    {
     "data": {
      "text/plain": [
       "(21911, 19128)"
      ]
     },
     "execution_count": 9,
     "metadata": {},
     "output_type": "execute_result"
    }
   ],
   "source": [
    "wsi_image.dimensions"
   ]
  },
  {
   "cell_type": "code",
   "execution_count": null,
   "metadata": {},
   "outputs": [
    {
     "name": "stdout",
     "output_type": "stream",
     "text": [
      "15.999212129059368\n"
     ]
    }
   ],
   "source": [
    "factor = (wsi_image.dimensions[0] / mask.width +\n",
    "          wsi_image.dimensions[1] / mask.height) * 0.5\n",
    "print(factor)"
   ]
  },
  {
   "cell_type": "code",
   "execution_count": 11,
   "metadata": {},
   "outputs": [
    {
     "name": "stdout",
     "output_type": "stream",
     "text": [
      "0.4942\n"
     ]
    }
   ],
   "source": [
    "mpp_x = float(wsi_image.properties.get(openslide.PROPERTY_NAME_MPP_X))\n",
    "print(mpp_x)"
   ]
  },
  {
   "cell_type": "code",
   "execution_count": 12,
   "metadata": {},
   "outputs": [
    {
     "name": "stdout",
     "output_type": "stream",
     "text": [
      "Magnification: 20x\n"
     ]
    }
   ],
   "source": [
    "magnification = wsi_image.properties.get(openslide.PROPERTY_NAME_OBJECTIVE_POWER)\n",
    "\n",
    "print(f\"Magnification: {magnification}x\")\n"
   ]
  },
  {
   "cell_type": "code",
   "execution_count": null,
   "metadata": {},
   "outputs": [],
   "source": [
    "np_mask = np.array(mask)\n",
    "labels = np.unique(np_mask)\n",
    " "
   ]
  },
  {
   "cell_type": "code",
   "execution_count": 14,
   "metadata": {},
   "outputs": [],
   "source": [
    "areas = []\n",
    "for label in labels:\n",
    "    areas.append(np.sum(np_mask==label))"
   ]
  },
  {
   "cell_type": "code",
   "execution_count": 15,
   "metadata": {},
   "outputs": [
    {
     "name": "stdout",
     "output_type": "stream",
     "text": [
      "109154.93333333333\n"
     ]
    }
   ],
   "source": [
    "average_area = np.mean(areas)\n",
    "print(average_area)"
   ]
  },
  {
   "cell_type": "code",
   "execution_count": 16,
   "metadata": {},
   "outputs": [
    {
     "name": "stdout",
     "output_type": "stream",
     "text": [
      " average area in micrometer**2: 6824110.398712311\n"
     ]
    }
   ],
   "source": [
    "mask_pix_dim = mpp_x * factor\n",
    "\n",
    "print(f\" average area in micrometer**2: {average_area * mask_pix_dim**2}\")"
   ]
  },
  {
   "cell_type": "code",
   "execution_count": 17,
   "metadata": {},
   "outputs": [
    {
     "name": "stdout",
     "output_type": "stream",
     "text": [
      "451584\n"
     ]
    }
   ],
   "source": [
    "target_average_area = (672)**2\n",
    "print(target_average_area)\n"
   ]
  },
  {
   "cell_type": "code",
   "execution_count": null,
   "metadata": {},
   "outputs": [],
   "source": []
  }
 ],
 "metadata": {
  "kernelspec": {
   "display_name": "torchpl",
   "language": "python",
   "name": "python3"
  },
  "language_info": {
   "codemirror_mode": {
    "name": "ipython",
    "version": 3
   },
   "file_extension": ".py",
   "mimetype": "text/x-python",
   "name": "python",
   "nbconvert_exporter": "python",
   "pygments_lexer": "ipython3",
   "version": "3.11.0"
  }
 },
 "nbformat": 4,
 "nbformat_minor": 2
}
