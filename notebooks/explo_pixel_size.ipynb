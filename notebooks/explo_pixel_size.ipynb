{
 "cells": [
  {
   "cell_type": "code",
   "execution_count": null,
   "metadata": {},
   "outputs": [],
   "source": [
    "from pathlib import Path\n",
    "from dotenv import load_dotenv\n",
    "\n",
    "import openslide\n",
    "import pandas as pd\n",
    "from tqdm import tqdm\n",
    "import matplotlib.pyplot as plt\n",
    "\n",
    "from histolung.utils.yaml import load_yaml_with_env"
   ]
  },
  {
   "cell_type": "code",
   "execution_count": null,
   "metadata": {},
   "outputs": [],
   "source": [
    "project_dir = Path.cwd().parent"
   ]
  },
  {
   "cell_type": "code",
   "execution_count": null,
   "metadata": {},
   "outputs": [],
   "source": [
    "load_dotenv()\n",
    "\n",
    "data_config = load_yaml_with_env(project_dir / \"histolung/config/datasets_config.yaml\")"
   ]
  },
  {
   "cell_type": "code",
   "execution_count": null,
   "metadata": {},
   "outputs": [],
   "source": [
    "data_config"
   ]
  },
  {
   "cell_type": "code",
   "execution_count": null,
   "metadata": {},
   "outputs": [],
   "source": [
    "def get_files_by_pattern(dataset_info):\n",
    "    \"\"\"Get files matching the pattern in the dataset.\"\"\"\n",
    "    data_dir = Path(dataset_info[\"data_dir\"])\n",
    "    input_pattern = dataset_info[\"input_pattern\"]\n",
    "    return list(data_dir.rglob(input_pattern))  # Recursive search for pattern\n",
    "\n",
    "\n",
    "def get_wsi_metadata(file_path):\n",
    "    \"\"\"Retrieve pixel dimensions, pixel size, manufacturer, magnification, and resolution info for a given WSI file.\"\"\"\n",
    "    with openslide.OpenSlide(str(file_path)) as slide:\n",
    "        # Get dimensions\n",
    "        width, height = slide.dimensions\n",
    "        mpp_x = float(slide.properties.get(\"openslide.mpp-x\", \"nan\"))\n",
    "        mpp_y = float(slide.properties.get(\"openslide.mpp-y\", \"nan\"))\n",
    "\n",
    "        # Calculate width and height in microns if mpp_x and mpp_y are available\n",
    "        width_microns = width * mpp_x if not pd.isna(mpp_x) else float('nan')\n",
    "        height_microns = height * mpp_y if not pd.isna(mpp_y) else float('nan')\n",
    "\n",
    "        # Get manufacturer and magnification\n",
    "        manufacturer = slide.properties.get(\"openslide.vendor\", \"Unknown\")\n",
    "        magnification = slide.properties.get(\"openslide.objective-power\",\n",
    "                                             \"Unknown\")\n",
    "\n",
    "        # Get TIFF resolutions and calculate resolution in microns\n",
    "        x_res = float(slide.properties.get(\"tiff.XResolution\", \"nan\"))\n",
    "        y_res = float(slide.properties.get(\"tiff.YResolution\", \"nan\"))\n",
    "        resolution_unit = slide.properties.get(\n",
    "            \"tiff.ResolutionUnit\",\n",
    "            \"inch\")  # Default to inches if not specified\n",
    "\n",
    "        # Convert XResolution and YResolution to microns-per-pixel based on ResolutionUnit\n",
    "        if resolution_unit == \"centimeter\":\n",
    "            resolution_mpp_x = 1 / x_res * 10000  # Convert to microns\n",
    "            resolution_mpp_y = 1 / y_res * 10000\n",
    "        elif resolution_unit == \"inch\":\n",
    "            resolution_mpp_x = 1 / x_res * 25400  # Convert to microns\n",
    "            resolution_mpp_y = 1 / y_res * 25400\n",
    "        else:\n",
    "            resolution_mpp_x = resolution_mpp_y = float('nan')  # Unknown units\n",
    "\n",
    "    return (width, height, mpp_x, mpp_y, width_microns, height_microns,\n",
    "            manufacturer, magnification, x_res, y_res, resolution_mpp_x,\n",
    "            resolution_mpp_y)"
   ]
  },
  {
   "cell_type": "code",
   "execution_count": null,
   "metadata": {},
   "outputs": [],
   "source": [
    "pixel_data = []\n",
    "# Loop over each dataset\n",
    "for dataset_name, dataset_info in data_config[\"datasets\"].items():\n",
    "    # Loop over each file in the dataset matching the pattern\n",
    "    for file_path in tqdm(get_files_by_pattern(dataset_info)):\n",
    "        # Get metadata\n",
    "        (width, height, mpp_x, mpp_y, width_microns, height_microns,\n",
    "         manufacturer, magnification, x_res, y_res, resolution_mpp_x,\n",
    "         resolution_mpp_y) = get_wsi_metadata(file_path)\n",
    "\n",
    "        # Append to the list\n",
    "        pixel_data.append({\n",
    "            \"dataset\": dataset_name,\n",
    "            \"file_name\": file_path.name,\n",
    "            \"width\": width,\n",
    "            \"height\": height,\n",
    "            \"mpp_x\": mpp_x,\n",
    "            \"mpp_y\": mpp_y,\n",
    "            \"width_microns\": width_microns,\n",
    "            \"height_microns\": height_microns,\n",
    "            \"manufacturer\": manufacturer,\n",
    "            \"magnification\": magnification,\n",
    "            \"tiff.XResolution\": x_res,\n",
    "            \"tiff.YResolution\": y_res,\n",
    "            \"resolution_mpp_x\": resolution_mpp_x,\n",
    "            \"resolution_mpp_y\": resolution_mpp_y\n",
    "        })\n",
    "# Display the DataFrame\n",
    "pixel_data = pd.DataFrame(pixel_data)\n",
    "pixel_data.reset_index(drop=True, inplace=True)\n",
    "print(pixel_data)"
   ]
  },
  {
   "cell_type": "code",
   "execution_count": null,
   "metadata": {},
   "outputs": [],
   "source": [
    "# Plot histograms for all numerical columns\n",
    "pixel_data[[\"width_microns\", \"height_microns\", \"mpp_x\", \"mpp_y\"]].hist(bins=30, figsize=(12, 8), layout=(2, 2), alpha=0.7, color='blue')\n",
    "plt.suptitle(\"Histograms of WSI Dimensions and Pixel Sizes\")\n",
    "plt.show()"
   ]
  },
  {
   "cell_type": "code",
   "execution_count": null,
   "metadata": {},
   "outputs": [],
   "source": [
    "pixel_data[pixel_data[\"mpp_x\"]>0.25]"
   ]
  },
  {
   "cell_type": "code",
   "execution_count": null,
   "metadata": {},
   "outputs": [],
   "source": [
    "na_columns = pixel_data.isna().any()\n",
    "print(\"Columns with NaN values:\")\n",
    "print(na_columns[na_columns == True])\n"
   ]
  },
  {
   "cell_type": "code",
   "execution_count": null,
   "metadata": {},
   "outputs": [],
   "source": [
    "rows_with_na = pixel_data[pixel_data.isna().any(axis=1)]\n",
    "print(\"Rows with NaN values:\")\n",
    "print(rows_with_na)\n"
   ]
  },
  {
   "cell_type": "code",
   "execution_count": null,
   "metadata": {},
   "outputs": [],
   "source": [
    "rows_with_na[\"file_name\"].values[1]"
   ]
  },
  {
   "cell_type": "code",
   "execution_count": null,
   "metadata": {},
   "outputs": [],
   "source": [
    "pixel_data.to_csv(\"yo.csv\")"
   ]
  },
  {
   "cell_type": "code",
   "execution_count": null,
   "metadata": {},
   "outputs": [],
   "source": []
  }
 ],
 "metadata": {
  "kernelspec": {
   "display_name": "histolung",
   "language": "python",
   "name": "python3"
  },
  "language_info": {
   "codemirror_mode": {
    "name": "ipython",
    "version": 3
   },
   "file_extension": ".py",
   "mimetype": "text/x-python",
   "name": "python",
   "nbconvert_exporter": "python",
   "pygments_lexer": "ipython3",
   "version": "3.11.0"
  }
 },
 "nbformat": 4,
 "nbformat_minor": 2
}
