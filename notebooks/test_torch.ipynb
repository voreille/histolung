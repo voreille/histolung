{
 "cells": [
  {
   "cell_type": "code",
   "execution_count": null,
   "metadata": {},
   "outputs": [],
   "source": [
    "import json\n",
    "from pathlib import Path\n",
    "\n",
    "import h5py\n",
    "import torch\n",
    "from torch.utils.data import Dataset\n",
    "import pandas as pd\n",
    "\n",
    "project_dir = Path(\"../\").resolve()\n",
    "\n",
    "class WSIDataset(Dataset):\n",
    "    def __init__(self, hdf5_filepath, wsi_ids, labels):\n",
    "        self.hdf5_filepath = hdf5_filepath\n",
    "        self.wsi_ids = wsi_ids\n",
    "        self.labels = labels\n",
    "\n",
    "    def __len__(self):\n",
    "        return len(self.wsi_ids)\n",
    "\n",
    "    def __getitem__(self, idx):\n",
    "        wsi_id = self.wsi_ids[idx]\n",
    "        label = self.labels[idx]\n",
    "\n",
    "        # Load embeddings for the WSI\n",
    "        with h5py.File(self.hdf5_filepath, 'r') as hdf5_file:\n",
    "            embeddings = torch.tensor(hdf5_file['embeddings'][wsi_id][:])\n",
    "\n",
    "        return wsi_id, embeddings, label"
   ]
  },
  {
   "cell_type": "code",
   "execution_count": null,
   "metadata": {},
   "outputs": [],
   "source": [
    "def load_metadata():\n",
    "    \"\"\"Load WSI metadata and fold information for cross-validation.\"\"\"\n",
    "    fold_df = pd.read_csv(project_dir / \"data/interim/tcga_folds.csv\")\n",
    "    with open(project_dir / \"data/interim/tcga_wsi_data.json\") as f:\n",
    "        wsi_metadata = json.load(f)\n",
    "    return wsi_metadata, fold_df\n",
    "\n"
   ]
  },
  {
   "cell_type": "code",
   "execution_count": null,
   "metadata": {},
   "outputs": [],
   "source": [
    "wsi_metadata, fold_df = load_metadata()"
   ]
  },
  {
   "cell_type": "code",
   "execution_count": null,
   "metadata": {},
   "outputs": [],
   "source": [
    "wsi_metadata"
   ]
  },
  {
   "cell_type": "code",
   "execution_count": null,
   "metadata": {},
   "outputs": [],
   "source": []
  }
 ],
 "metadata": {
  "kernelspec": {
   "display_name": "histolung",
   "language": "python",
   "name": "python3"
  },
  "language_info": {
   "codemirror_mode": {
    "name": "ipython",
    "version": 3
   },
   "file_extension": ".py",
   "mimetype": "text/x-python",
   "name": "python",
   "nbconvert_exporter": "python",
   "pygments_lexer": "ipython3",
   "version": "3.11.0"
  }
 },
 "nbformat": 4,
 "nbformat_minor": 2
}
