{
 "cells": [
  {
   "cell_type": "code",
   "execution_count": null,
   "metadata": {},
   "outputs": [],
   "source": [
    "import json\n",
    "from pathlib import Path\n",
    "\n",
    "import h5py\n",
    "import torch\n",
    "from torch.utils.data import Dataset\n",
    "import pandas as pd\n",
    "from torch.utils.data import DataLoader\n",
    "\n",
    "project_dir = Path(\"../\").resolve()"
   ]
  },
  {
   "cell_type": "code",
   "execution_count": null,
   "metadata": {},
   "outputs": [],
   "source": [
    "class WSIDataset(Dataset):\n",
    "\n",
    "    def __init__(self, hdf5_filepath, wsi_ids, labels):\n",
    "        self.hdf5_filepath = hdf5_filepath\n",
    "        self.wsi_ids = wsi_ids\n",
    "        self.labels = labels\n",
    "\n",
    "    def __len__(self):\n",
    "        return len(self.wsi_ids)\n",
    "\n",
    "    def __getitem__(self, idx):\n",
    "        wsi_id = self.wsi_ids[idx]\n",
    "        label = self.labels[idx]\n",
    "\n",
    "        # Load embeddings for the WSI\n",
    "        with h5py.File(self.hdf5_filepath, 'r') as hdf5_file:\n",
    "            embeddings = torch.tensor(hdf5_file['embeddings'][wsi_id][:])\n",
    "\n",
    "        return wsi_id, embeddings, label"
   ]
  },
  {
   "cell_type": "code",
   "execution_count": null,
   "metadata": {},
   "outputs": [],
   "source": [
    "def load_metadata():\n",
    "    \"\"\"Load WSI metadata and fold information for cross-validation.\"\"\"\n",
    "    fold_df = pd.read_csv(project_dir / \"data/interim/tcga_folds.csv\")\n",
    "    with open(project_dir / \"data/interim/tcga_wsi_data.json\") as f:\n",
    "        wsi_metadata = json.load(f)\n",
    "    return wsi_metadata, fold_df\n"
   ]
  },
  {
   "cell_type": "code",
   "execution_count": null,
   "metadata": {},
   "outputs": [],
   "source": [
    "wsi_metadata, fold_df = load_metadata()"
   ]
  },
  {
   "cell_type": "code",
   "execution_count": null,
   "metadata": {},
   "outputs": [],
   "source": [
    "wsi_ids = [k[\"wsi_id\"] for k in wsi_metadata]"
   ]
  },
  {
   "cell_type": "code",
   "execution_count": null,
   "metadata": {},
   "outputs": [],
   "source": [
    "dataset = WSIDataset(\"/home/valentin/workspaces/histolung/data/embeddings/uni_embeddings.h5\", wsi_ids[:10], [1 for _ in range(10)])"
   ]
  },
  {
   "cell_type": "code",
   "execution_count": null,
   "metadata": {},
   "outputs": [],
   "source": [
    "def collate_fn_ragged(batch):\n",
    "    wsi_ids, embeddings, labels = zip(*batch)\n",
    "    return list(wsi_ids), list(embeddings), torch.tensor(labels)"
   ]
  },
  {
   "cell_type": "code",
   "execution_count": null,
   "metadata": {},
   "outputs": [],
   "source": [
    "data_loader = DataLoader(dataset, batch_size=5, collate_fn=collate_fn_ragged)"
   ]
  },
  {
   "cell_type": "code",
   "execution_count": null,
   "metadata": {},
   "outputs": [],
   "source": [
    "for batch in data_loader:\n",
    "    wsi_ids, embeddings, labels = batch\n",
    "    for i, wsi_id in enumerate(wsi_ids):\n",
    "        print(f\"{wsi_id}'s embedding has a shape of: {embeddings[i].shape}\")"
   ]
  },
  {
   "cell_type": "code",
   "execution_count": null,
   "metadata": {},
   "outputs": [],
   "source": [
    "\n",
    "def inspect_hdf5(file_path):\n",
    "    with h5py.File(file_path, \"r\") as f:\n",
    "        def visit(name, obj):\n",
    "            if isinstance(obj, h5py.Dataset):  # Check if it's a dataset\n",
    "                print(f\"Dataset: {name}\")\n",
    "                print(f\"  Compression: {obj.compression}\")\n",
    "                print(f\"  Compression options: {obj.compression_opts}\")\n",
    "            elif isinstance(obj, h5py.Group):  # Check if it's a group\n",
    "                print(f\"Group: {name}\")\n",
    "        \n",
    "        # Recursively visit all items in the HDF5 file\n",
    "        f.visititems(visit)\n",
    "\n",
    "# Example usage\n",
    "inspect_hdf5(\"/home/valentin/workspaces/histolung/data/embeddings/uni_embeddings.h5\")"
   ]
  },
  {
   "cell_type": "code",
   "execution_count": null,
   "metadata": {},
   "outputs": [],
   "source": []
  }
 ],
 "metadata": {
  "kernelspec": {
   "display_name": "histolung",
   "language": "python",
   "name": "python3"
  },
  "language_info": {
   "codemirror_mode": {
    "name": "ipython",
    "version": 3
   },
   "file_extension": ".py",
   "mimetype": "text/x-python",
   "name": "python",
   "nbconvert_exporter": "python",
   "pygments_lexer": "ipython3",
   "version": "3.11.0"
  }
 },
 "nbformat": 4,
 "nbformat_minor": 2
}
