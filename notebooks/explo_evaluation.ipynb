{
 "cells": [
  {
   "cell_type": "code",
   "execution_count": null,
   "metadata": {},
   "outputs": [],
   "source": [
    "import os\n",
    "\n",
    "from dotenv import load_dotenv\n",
    "from huggingface_hub import login\n",
    "import torch\n",
    "from torchvision import transforms\n",
    "from torchvision.models import resnet50\n",
    "import numpy as np\n",
    "import torch.nn as nn\n",
    "\n",
    "from histolung.evaluation.evaluators import LungHist700Evaluator\n",
    "from histolung.models.models_darya import MoCoV2Encoder"
   ]
  },
  {
   "cell_type": "code",
   "execution_count": null,
   "metadata": {},
   "outputs": [],
   "source": [
    "moco_model = MoCoV2Encoder()"
   ]
  },
  {
   "cell_type": "code",
   "execution_count": null,
   "metadata": {},
   "outputs": [],
   "source": [
    "checkpoint = torch.load(\n",
    "    \"/mnt/nas7/data/Personal/Darya/saved_models/superpixels_moco_org/superpixel_moco_org_58.pth\",\n",
    "    # \"/mnt/nas7/data/Personal/Darya/saved_models/superpixels_resnet50__alpha_0.5__ablation/superpixel_org_22.pth\",\n",
    "    map_location=\"cpu\",\n",
    ")\n"
   ]
  },
  {
   "cell_type": "code",
   "execution_count": null,
   "metadata": {},
   "outputs": [],
   "source": [
    "moco_model.state_dict().keys()"
   ]
  },
  {
   "cell_type": "code",
   "execution_count": null,
   "metadata": {},
   "outputs": [],
   "source": [
    "\n",
    "moco_model.load_state_dict(checkpoint[\"model_state_dict\"], strict=False)"
   ]
  },
  {
   "cell_type": "code",
   "execution_count": null,
   "metadata": {},
   "outputs": [],
   "source": [
    "checkpoint[\"model_state_dict\"].keys()"
   ]
  },
  {
   "cell_type": "code",
   "execution_count": null,
   "metadata": {},
   "outputs": [],
   "source": [
    "model = moco_model.encoder_q\n",
    "model.fc = nn.Identity()"
   ]
  },
  {
   "cell_type": "code",
   "execution_count": null,
   "metadata": {},
   "outputs": [],
   "source": [
    "def get_device(gpu_id=None):\n",
    "    \"\"\"Select the appropriate device for computation.\"\"\"\n",
    "    if torch.cuda.is_available():\n",
    "        if gpu_id is not None and gpu_id < torch.cuda.device_count():\n",
    "            device = torch.device(f\"cuda:{gpu_id}\")\n",
    "            print(f\"Using GPU: {torch.cuda.get_device_name(device)}\")\n",
    "        else:\n",
    "            device = torch.device(\"cuda:0\")  # Default to first GPU\n",
    "            print(f\"Using GPU: {torch.cuda.get_device_name(device)}\")\n",
    "    else:\n",
    "        device = torch.device(\"cpu\")\n",
    "        print(\"Using CPU.\")\n",
    "    return device"
   ]
  },
  {
   "cell_type": "code",
   "execution_count": null,
   "metadata": {},
   "outputs": [],
   "source": [
    "device = get_device(gpu_id=1)"
   ]
  },
  {
   "cell_type": "code",
   "execution_count": null,
   "metadata": {},
   "outputs": [],
   "source": [
    "model.to(device)\n",
    "model.eval()"
   ]
  },
  {
   "cell_type": "code",
   "execution_count": null,
   "metadata": {},
   "outputs": [],
   "source": [
    "evaluator = LungHist700Evaluator(\n",
    "    n_splits=5,\n",
    "    batch_size=256,\n",
    "    num_workers=4,\n",
    "    gpu_id=1,\n",
    "    data_dir=\"/home/valentin/workspaces/histolung/data/processed/LungHist700_10x\",\n",
    ")"
   ]
  },
  {
   "cell_type": "code",
   "execution_count": null,
   "metadata": {},
   "outputs": [],
   "source": [
    "embeddings, tile_ids = evaluator.compute_embeddings(model)"
   ]
  },
  {
   "cell_type": "code",
   "execution_count": null,
   "metadata": {},
   "outputs": [],
   "source": [
    "embeddings.shape"
   ]
  },
  {
   "cell_type": "code",
   "execution_count": null,
   "metadata": {},
   "outputs": [],
   "source": [
    "results = evaluator.evaluate(embeddings, tile_ids, verbose=True, magnification=\"all\")"
   ]
  },
  {
   "cell_type": "code",
   "execution_count": null,
   "metadata": {},
   "outputs": [],
   "source": [
    "print(f\"\\nk-NN Concatenated Accuracy: {results['concatenated_accuracy']:.4f}\")\n",
    "print(\n",
    "    f\"\\nk-NN Mean Accuracy \\u00B1 STD : {results['mean_accuracy']:.4f} \\u00B1 {results['std_accuracy']:.4f}\"\n",
    ")\n"
   ]
  },
  {
   "cell_type": "code",
   "execution_count": null,
   "metadata": {},
   "outputs": [],
   "source": []
  }
 ],
 "metadata": {
  "kernelspec": {
   "display_name": "torchpl",
   "language": "python",
   "name": "python3"
  },
  "language_info": {
   "codemirror_mode": {
    "name": "ipython",
    "version": 3
   },
   "file_extension": ".py",
   "mimetype": "text/x-python",
   "name": "python",
   "nbconvert_exporter": "python",
   "pygments_lexer": "ipython3",
   "version": "3.11.0"
  }
 },
 "nbformat": 4,
 "nbformat_minor": 2
}
