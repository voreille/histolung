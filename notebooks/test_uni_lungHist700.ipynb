{
 "cells": [
  {
   "cell_type": "code",
   "execution_count": null,
   "metadata": {},
   "outputs": [],
   "source": [
    "import os\n",
    "from pathlib import Path\n",
    "\n",
    "import torch\n",
    "from torch.utils.data import DataLoader\n",
    "from tqdm import tqdm\n",
    "import numpy as np\n",
    "import pandas as pd\n",
    "\n",
    "from histolung.models.feature_extractor import BaseFeatureExtractor\n",
    "from histolung.evaluation.datasets import TileDataset"
   ]
  },
  {
   "cell_type": "code",
   "execution_count": 2,
   "metadata": {},
   "outputs": [],
   "source": [
    "os.environ[\"CUDA_VISIBLE_DEVICES\"] = \"1\"  # Replace \"0\" with the GPU index you want to use"
   ]
  },
  {
   "cell_type": "code",
   "execution_count": 6,
   "metadata": {},
   "outputs": [],
   "source": [
    "data_dir = Path(\n",
    "    \"/home/valentin/workspaces/histolung/data/processed/LungHist700/\"\n",
    ")\n",
    "tiles_dir = data_dir / \"tiles\"\n",
    "metadata = pd.read_csv(data_dir / \"metadata.csv\").set_index(\"tile_id\")"
   ]
  },
  {
   "cell_type": "code",
   "execution_count": null,
   "metadata": {},
   "outputs": [],
   "source": [
    "model = BaseFeatureExtractor.get_feature_extractor(\n",
    "    \"UNI\",\n",
    "    weights_filepath=\n",
    "    \"models/uni/assets/ckpts/vit_large_patch16_224.dinov2.uni_mass100k/pytorch_model.bin\",\n",
    ").to(\"cuda\")\n",
    "preprocess = model.get_preprocessing()\n"
   ]
  },
  {
   "cell_type": "code",
   "execution_count": null,
   "metadata": {},
   "outputs": [],
   "source": [
    "tile_paths = [\n",
    "    p for p in tiles_dir.glob(\"*.png\")\n",
    "    if metadata.loc[p.stem][\"resolution\"] == \"20x\"\n",
    "]\n",
    "\n",
    "tile_dataset = TileDataset(tile_paths, preprocess=preprocess)\n",
    "dataloader = DataLoader(tile_dataset, batch_size=128, num_workers=12)"
   ]
  },
  {
   "cell_type": "code",
   "execution_count": null,
   "metadata": {},
   "outputs": [],
   "source": [
    "embeddings = []\n",
    "tile_ids = []\n",
    "for batch in tqdm(dataloader):\n",
    "    images, batch_tile_ids = batch\n",
    "    embeddings.append(model(images.to(\"cuda\")).detach().cpu())\n",
    "    tile_ids.extend(batch_tile_ids)"
   ]
  },
  {
   "cell_type": "code",
   "execution_count": 13,
   "metadata": {},
   "outputs": [],
   "source": [
    "labels = metadata.set_index(\"tile_id\").loc[tile_ids][\"label\"].tolist()"
   ]
  },
  {
   "cell_type": "code",
   "execution_count": 11,
   "metadata": {},
   "outputs": [],
   "source": [
    "train_patient_ids = [\n",
    "    2, 3, 4, 5, 7, 8, 12, 14, 15, 16, 17, 18, 20, 21, 23, 24, 25, 26, 28, 29,\n",
    "    30, 33, 36, 37, 38, 39, 41, 42, 45\n",
    "]\n",
    "val_patient_ids = [1, 6, 27, 32, 44]\n",
    "test_patient_ids = [9, 13, 31, 40]\n",
    "train_patient_ids = val_patient_ids + train_patient_ids"
   ]
  },
  {
   "cell_type": "code",
   "execution_count": 17,
   "metadata": {},
   "outputs": [],
   "source": [
    "superclass_mapping = {\"nor\": 0, \"aca\": 1, \"scc\": 2}\n",
    "labels = list(\n",
    "    map(lambda x: superclass_mapping[x],\n",
    "        metadata.loc[tile_ids][\"superclass\"].tolist()))\n",
    "patient_ids = metadata.loc[tile_ids][\"patient_id\"].tolist()\n",
    "\n",
    "# Split based on patient IDs\n",
    "train_idx = [\n",
    "    i for i, image_id in enumerate(patient_ids)\n",
    "    if image_id in train_patient_ids\n",
    "]\n",
    "test_idx = [\n",
    "    i for i, image_id in enumerate(patient_ids)\n",
    "    if image_id in test_patient_ids\n",
    "]"
   ]
  },
  {
   "cell_type": "code",
   "execution_count": null,
   "metadata": {},
   "outputs": [],
   "source": [
    "set(train_idx).intersection(set(test_idx))"
   ]
  },
  {
   "cell_type": "code",
   "execution_count": 21,
   "metadata": {},
   "outputs": [],
   "source": [
    "X = np.concatenate(embeddings, axis=0)"
   ]
  },
  {
   "cell_type": "code",
   "execution_count": null,
   "metadata": {},
   "outputs": [],
   "source": [
    "X.shape"
   ]
  },
  {
   "cell_type": "code",
   "execution_count": null,
   "metadata": {},
   "outputs": [],
   "source": [
    "X_train, labels_train = X[train_idx], labels[train_idx]"
   ]
  }
 ],
 "metadata": {
  "kernelspec": {
   "display_name": "histolung",
   "language": "python",
   "name": "python3"
  },
  "language_info": {
   "codemirror_mode": {
    "name": "ipython",
    "version": 3
   },
   "file_extension": ".py",
   "mimetype": "text/x-python",
   "name": "python",
   "nbconvert_exporter": "python",
   "pygments_lexer": "ipython3",
   "version": "3.11.0"
  }
 },
 "nbformat": 4,
 "nbformat_minor": 2
}
