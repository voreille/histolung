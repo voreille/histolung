{
 "cells": [
  {
   "cell_type": "markdown",
   "metadata": {},
   "source": [
    "it is just a file to generate the mapping for the histoqc config.ini and the wsi ids\n",
    "this file is just to keep track of what I did\n",
    "some ids were identified upon visual inspection"
   ]
  },
  {
   "cell_type": "code",
   "execution_count": 2,
   "metadata": {},
   "outputs": [],
   "source": [
    "from pathlib import Path\n",
    "\n",
    "import yaml\n",
    "import pandas as pd\n",
    "\n",
    "from histolung.data.rename import RENAMING_RULES"
   ]
  },
  {
   "cell_type": "code",
   "execution_count": 3,
   "metadata": {},
   "outputs": [],
   "source": [
    "project_dir = Path.cwd().parent  "
   ]
  },
  {
   "cell_type": "code",
   "execution_count": 4,
   "metadata": {},
   "outputs": [],
   "source": [
    "tcga_luad_path = Path(\"/mnt/nas7/data/TCGA_Lung_svs/LUAD\")"
   ]
  },
  {
   "cell_type": "code",
   "execution_count": 5,
   "metadata": {},
   "outputs": [],
   "source": [
    "wsi_paths = [f for f in tcga_luad_path.rglob(\"*DX*.svs\")]"
   ]
  },
  {
   "cell_type": "code",
   "execution_count": 6,
   "metadata": {},
   "outputs": [],
   "source": [
    "rename_func = RENAMING_RULES[\"tcga_luad\"]"
   ]
  },
  {
   "cell_type": "code",
   "execution_count": 7,
   "metadata": {},
   "outputs": [],
   "source": [
    "wsi_ids = [rename_func(f.name) for f in wsi_paths]"
   ]
  },
  {
   "cell_type": "code",
   "execution_count": null,
   "metadata": {},
   "outputs": [],
   "source": [
    "len(wsi_ids)"
   ]
  },
  {
   "cell_type": "code",
   "execution_count": 9,
   "metadata": {},
   "outputs": [],
   "source": [
    "with open(project_dir / \"data/interim/histoqc_config_mapping/tcga_luad_with_pen_marking.yaml\", \"r\") as file:\n",
    "    histoqc_config_mapping = yaml.safe_load(file)\n",
    "wsi_ids_already_defined = histoqc_config_mapping[\"mappings\"][0][\"wsi_ids\"]"
   ]
  },
  {
   "cell_type": "code",
   "execution_count": 10,
   "metadata": {},
   "outputs": [],
   "source": [
    "wsi_ids_to_process = [wsi_id for wsi_id in wsi_ids if wsi_id not in wsi_ids_already_defined]\n",
    "wsi_ids_to_process.sort()"
   ]
  },
  {
   "cell_type": "code",
   "execution_count": 11,
   "metadata": {},
   "outputs": [],
   "source": [
    "histoqc_config_mapping[\"mappings\"].append({\n",
    "    \"wsi_ids\": wsi_ids_to_process,\n",
    "    \"config\": \"path_to_config\"\n",
    "})"
   ]
  },
  {
   "cell_type": "code",
   "execution_count": null,
   "metadata": {},
   "outputs": [],
   "source": [
    "histoqc_config_mapping[\"mappings\"]"
   ]
  },
  {
   "cell_type": "code",
   "execution_count": 13,
   "metadata": {},
   "outputs": [],
   "source": [
    "save_to_file = False\n",
    "if save_to_file:\n",
    "    with open(\n",
    "            project_dir /\n",
    "            \"data/interim/histoqc_config_mapping/tcga_luad_complete.yaml\",\n",
    "            'w') as file:\n",
    "        yaml.dump(histoqc_config_mapping, file, default_flow_style=False)"
   ]
  },
  {
   "cell_type": "code",
   "execution_count": 14,
   "metadata": {},
   "outputs": [],
   "source": [
    "tcga_lusc_path = Path(\"/mnt/nas7/data/TCGA_Lung_svs/LUSC\")\n",
    "wsi_paths = [f for f in tcga_lusc_path.rglob(\"*DX*.svs\")]\n",
    "rename_func = RENAMING_RULES[\"tcga_lusc\"]\n",
    "wsi_ids = [rename_func(f.name) for f in wsi_paths]"
   ]
  },
  {
   "cell_type": "code",
   "execution_count": null,
   "metadata": {},
   "outputs": [],
   "source": [
    "len(wsi_ids)"
   ]
  },
  {
   "cell_type": "code",
   "execution_count": 16,
   "metadata": {},
   "outputs": [],
   "source": [
    "with open(project_dir / \"data/interim/histoqc_config_mapping/tcga_lusc_with_pen_marking.yaml\", \"r\") as file:\n",
    "    histoqc_config_mapping = yaml.safe_load(file)\n",
    "wsi_ids_already_defined = histoqc_config_mapping[\"mappings\"][0][\"wsi_ids\"]"
   ]
  },
  {
   "cell_type": "code",
   "execution_count": 17,
   "metadata": {},
   "outputs": [],
   "source": [
    "wsi_ids_to_process = [wsi_id for wsi_id in wsi_ids if wsi_id not in wsi_ids_already_defined]\n",
    "wsi_ids_to_process.sort()"
   ]
  },
  {
   "cell_type": "code",
   "execution_count": null,
   "metadata": {},
   "outputs": [],
   "source": [
    "len(wsi_ids_to_process) + len(wsi_ids_already_defined)"
   ]
  },
  {
   "cell_type": "code",
   "execution_count": 19,
   "metadata": {},
   "outputs": [],
   "source": [
    "histoqc_config_mapping[\"mappings\"].append({\n",
    "    \"wsi_ids\": wsi_ids_to_process,\n",
    "    \"config\": \"path_to_config\"\n",
    "})"
   ]
  },
  {
   "cell_type": "code",
   "execution_count": 20,
   "metadata": {},
   "outputs": [],
   "source": [
    "save_to_file = False\n",
    "if save_to_file:\n",
    "    with open(\n",
    "            project_dir /\n",
    "            \"data/interim/histoqc_config_mapping/tcga_lusc_complete.yaml\",\n",
    "            'w') as file:\n",
    "        yaml.dump(histoqc_config_mapping, file, default_flow_style=False)"
   ]
  },
  {
   "cell_type": "code",
   "execution_count": 37,
   "metadata": {},
   "outputs": [],
   "source": [
    "df_cptac_lusc = pd.read_csv(\"/mnt/nas6/data/CPTAC/TCIA_CPTAC_LSCC_Pathology_Data_Table.csv\")"
   ]
  },
  {
   "cell_type": "code",
   "execution_count": 38,
   "metadata": {},
   "outputs": [],
   "source": [
    "wsi_ids = df_cptac_lusc[df_cptac_lusc[\"Embedding_Medium\"] == \"FFPE\"][\"Slide_ID\"].tolist()\n",
    "wsi_ids.sort()"
   ]
  },
  {
   "cell_type": "code",
   "execution_count": null,
   "metadata": {},
   "outputs": [],
   "source": [
    "len(wsi_ids)"
   ]
  },
  {
   "cell_type": "code",
   "execution_count": 40,
   "metadata": {},
   "outputs": [],
   "source": [
    "histoqc_config_mapping = {\n",
    "    \"description\":\n",
    "    \"This file contains the mapping between WSI IDs and HistoQC config files\",\n",
    "    \"mappings\": [{\n",
    "        \"config\": \"histolung/config/HistoQC/config_light.ini\",\n",
    "        \"comment\": \"The following WSI IDs are FFPE slides\",\n",
    "        \"wsi_ids\": wsi_ids\n",
    "    }],\n",
    "}"
   ]
  },
  {
   "cell_type": "code",
   "execution_count": null,
   "metadata": {},
   "outputs": [],
   "source": []
  },
  {
   "cell_type": "code",
   "execution_count": 41,
   "metadata": {},
   "outputs": [],
   "source": [
    "save_to_file = True\n",
    "if save_to_file:\n",
    "    with open(\n",
    "            project_dir /\n",
    "            \"data/interim/histoqc_config_mapping/cptac_lusc_complete.yaml\",\n",
    "            'w',\n",
    "    ) as file:\n",
    "        yaml.dump(histoqc_config_mapping, file, default_flow_style=False)"
   ]
  },
  {
   "cell_type": "code",
   "execution_count": null,
   "metadata": {},
   "outputs": [],
   "source": [
    "df_cptac_luad = pd.read_csv(\"/mnt/nas6/data/CPTAC/TCIA_CPTAC_LUAD_Pathology_Data_Table.csv\")\n",
    "wsi_ids = df_cptac_luad[df_cptac_luad[\"Embedding_Medium\"] == \"FFPE\"][\"Slide_ID\"].tolist()\n",
    "wsi_ids.sort()\n",
    "len(wsi_ids)"
   ]
  },
  {
   "cell_type": "code",
   "execution_count": 43,
   "metadata": {},
   "outputs": [],
   "source": [
    "histoqc_config_mapping = {\n",
    "    \"description\":\n",
    "    \"This file contains the mapping between WSI IDs and HistoQC config files\",\n",
    "    \"mappings\": [{\n",
    "        \"config\": \"histolung/config/HistoQC/config_light.ini\",\n",
    "        \"comment\": \"The following WSI IDs are FFPE slides\",\n",
    "        \"wsi_ids\": wsi_ids\n",
    "    }],\n",
    "}"
   ]
  },
  {
   "cell_type": "code",
   "execution_count": 44,
   "metadata": {},
   "outputs": [],
   "source": [
    "save_to_file = True\n",
    "if save_to_file:\n",
    "    with open(\n",
    "            project_dir /\n",
    "            \"data/interim/histoqc_config_mapping/cptac_luad_complete.yaml\",\n",
    "            'w',\n",
    "    ) as file:\n",
    "        yaml.dump(histoqc_config_mapping, file, default_flow_style=False)"
   ]
  },
  {
   "cell_type": "code",
   "execution_count": null,
   "metadata": {},
   "outputs": [],
   "source": []
  }
 ],
 "metadata": {
  "kernelspec": {
   "display_name": "histolung",
   "language": "python",
   "name": "python3"
  },
  "language_info": {
   "codemirror_mode": {
    "name": "ipython",
    "version": 3
   },
   "file_extension": ".py",
   "mimetype": "text/x-python",
   "name": "python",
   "nbconvert_exporter": "python",
   "pygments_lexer": "ipython3",
   "version": "3.11.0"
  }
 },
 "nbformat": 4,
 "nbformat_minor": 2
}
