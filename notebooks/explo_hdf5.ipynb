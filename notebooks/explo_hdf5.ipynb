{
 "cells": [
  {
   "cell_type": "code",
   "execution_count": 11,
   "metadata": {},
   "outputs": [],
   "source": [
    "import json\n",
    "\n",
    "import h5py\n",
    "import torch\n",
    "from pathlib import Path\n",
    "import numpy as np"
   ]
  },
  {
   "cell_type": "code",
   "execution_count": 2,
   "metadata": {},
   "outputs": [],
   "source": [
    "file = h5py.File(\"/home/valentin/workspaces/histolung/data/embeddings/uni_embeddings.h5\", \"r\")"
   ]
  },
  {
   "cell_type": "code",
   "execution_count": 3,
   "metadata": {},
   "outputs": [],
   "source": [
    "wsi_ids = list(file[\"embeddings\"].keys())"
   ]
  },
  {
   "cell_type": "code",
   "execution_count": 13,
   "metadata": {},
   "outputs": [
    {
     "name": "stdout",
     "output_type": "stream",
     "text": [
      "{'feature_extractor': {'name': 'UNI', 'kwargs': {'weights_filepath': 'models/uni/assets/ckpts/vit_large_patch16_224.dinov2.uni_mass100k/pytorch_model.bin', 'freeze_weights': True}}, 'aggregator': {'name': 'attention', 'kwargs': {'projection_dim': 128, 'num_classes': 2, 'dropout': 0.2}}, 'training': {'epochs': 100, 'batch_size': 512, 'learning_rate': 0.001, 'optimizer': 'Adam', 'optimizer_kwargs': {'amsgrad': True, 'betas': [0.9, 0.999], 'eps': 1e-08, 'lr': 0.0003, 'weight_decay': 0.0001}, 'scheduler': True, 'device': 'cuda', 'loss': 'BCEWithLogitsLoss', 'loss_kwargs': {'weight': [0.824, 0.809]}, 'early_stop_patience': 15, 'lr_scheduler': 'CosineAnnealingLR', 'lr_scheduler_args': {'T_max': 10, 'eta_min': 3e-05}, 'resume_training': False}, 'data': {'data_path': 'data/interim/tiles', 'tiles_metadata': 'data/interim/tiles/tiles_metadata.json', 'magnification': '10', 'image_size': 224, 'augmentations': {'horizontal_flip': True, 'vertical_flip': False, 'rotation': 15}, 'mean': [0.485, 0.456, 0.406], 'std': [0.229, 0.224, 0.225], 'embedding_file': 'data/embeddings/uni_embeddings.h5', 'label_map': {'lusc': 0, 'luad': 1}}, 'misc': {'seed': 42, 'logging': True, 'save_model': True, 'model_save_path': './models/mil_model.pth'}, 'run': {'experiment_name': 'UNI_explo', 'description': 'Testing the resnet50 model with new data augmentation', 'tags': ['test', 'resnet50', 'augmentation']}}\n"
     ]
    }
   ],
   "source": [
    "config = json.loads(file[\"metadata\"].attrs[\"config\"])\n",
    "print(config)"
   ]
  },
  {
   "cell_type": "code",
   "execution_count": 4,
   "metadata": {},
   "outputs": [
    {
     "data": {
      "text/plain": [
       "['TCGA-21-1080-01Z-00-DX1',\n",
       " 'TCGA-22-4595-01Z-00-DX1',\n",
       " 'TCGA-56-A5DS-01Z-00-DX1',\n",
       " 'TCGA-60-2713-01Z-00-DX1']"
      ]
     },
     "execution_count": 4,
     "metadata": {},
     "output_type": "execute_result"
    }
   ],
   "source": [
    "wsi_ids"
   ]
  },
  {
   "cell_type": "code",
   "execution_count": null,
   "metadata": {},
   "outputs": [],
   "source": [
    "wsi_ids[2]"
   ]
  },
  {
   "cell_type": "code",
   "execution_count": null,
   "metadata": {},
   "outputs": [],
   "source": [
    "yo = np.array(file[\"embeddings\"][wsi_ids[2]])"
   ]
  },
  {
   "cell_type": "code",
   "execution_count": null,
   "metadata": {},
   "outputs": [],
   "source": [
    "yo.shape"
   ]
  },
  {
   "cell_type": "code",
   "execution_count": null,
   "metadata": {},
   "outputs": [],
   "source": [
    "file.close()"
   ]
  },
  {
   "cell_type": "code",
   "execution_count": null,
   "metadata": {},
   "outputs": [],
   "source": []
  },
  {
   "cell_type": "code",
   "execution_count": null,
   "metadata": {},
   "outputs": [],
   "source": []
  }
 ],
 "metadata": {
  "kernelspec": {
   "display_name": "histolung",
   "language": "python",
   "name": "python3"
  },
  "language_info": {
   "codemirror_mode": {
    "name": "ipython",
    "version": 3
   },
   "file_extension": ".py",
   "mimetype": "text/x-python",
   "name": "python",
   "nbconvert_exporter": "python",
   "pygments_lexer": "ipython3",
   "version": "3.11.0"
  }
 },
 "nbformat": 4,
 "nbformat_minor": 2
}
