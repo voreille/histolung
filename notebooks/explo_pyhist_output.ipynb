{
 "cells": [
  {
   "cell_type": "code",
   "execution_count": 1,
   "metadata": {},
   "outputs": [
    {
     "name": "stderr",
     "output_type": "stream",
     "text": [
      "2024-09-26 09:59:26.298 | INFO     | histolung.config:<module>:11 - PROJ_ROOT path is: /home/valentin/workspaces/histolung\n"
     ]
    }
   ],
   "source": [
    "from pathlib import Path\n",
    "\n",
    "import pandas as pd\n",
    "import numpy as np\n",
    "\n",
    "from histolung.data.utils_pyhist import compute_xy_coordinates"
   ]
  },
  {
   "cell_type": "code",
   "execution_count": 2,
   "metadata": {},
   "outputs": [],
   "source": [
    "df = pd.read_csv(\"/home/valentin/workspaces/histolung/data/test_heatmaps/TCGA-18-3417-01Z-00-DX1/tile_selection.tsv\", sep=\"\\t\")"
   ]
  },
  {
   "cell_type": "code",
   "execution_count": 5,
   "metadata": {},
   "outputs": [],
   "source": [
    "path = Path(\"/home/valentin/workspaces/histolung/data/test_heatmaps/TCGA-18-3417-01Z-00-DX1/segmented_TCGA-18-3417-01Z-00-DX1.ppm.gz\")"
   ]
  },
  {
   "cell_type": "code",
   "execution_count": 7,
   "metadata": {},
   "outputs": [
    {
     "data": {
      "text/plain": [
       "PosixPath('/home/valentin/workspaces/histolung/data/test_heatmaps/TCGA-18-3417-01Z-00-DX1')"
      ]
     },
     "execution_count": 7,
     "metadata": {},
     "output_type": "execute_result"
    }
   ],
   "source": [
    "path.parent"
   ]
  },
  {
   "cell_type": "code",
   "execution_count": null,
   "metadata": {},
   "outputs": [],
   "source": [
    "df.head()"
   ]
  },
  {
   "cell_type": "code",
   "execution_count": null,
   "metadata": {},
   "outputs": [],
   "source": [
    "compute_xy_coordinates(df)"
   ]
  },
  {
   "cell_type": "code",
   "execution_count": null,
   "metadata": {},
   "outputs": [],
   "source": [
    "df"
   ]
  },
  {
   "cell_type": "code",
   "execution_count": 7,
   "metadata": {},
   "outputs": [],
   "source": [
    "widths = df[df[\"Row\"] == 0][\"Width\"].values\n",
    "heights = df[df[\"Column\"] == 0][\"Height\"].values\n",
    "\n",
    "\n",
    "\n",
    "\n",
    "df[\"coord_x\"] = df[\"Column\"].apply(lambda index: np.sum(widths[:index]))\n",
    "df[\"coord_y\"] = df[\"Row\"].apply(lambda index: np.sum(heights[:index]))"
   ]
  },
  {
   "cell_type": "code",
   "execution_count": null,
   "metadata": {},
   "outputs": [],
   "source": [
    "df"
   ]
  },
  {
   "cell_type": "code",
   "execution_count": null,
   "metadata": {},
   "outputs": [],
   "source": [
    "heights"
   ]
  },
  {
   "cell_type": "code",
   "execution_count": 7,
   "metadata": {},
   "outputs": [],
   "source": [
    "# To calculate x position, sum widths up to each tile's column in the same row\n",
    "def compute_x(row, df):\n",
    "    row_tiles = df[df['Row'] == row['Row']].iloc[:row['Column']].Width\n",
    "    return row_tiles.sum()\n",
    "\n",
    "# To calculate y position, sum heights up to each tile's row in the same column\n",
    "def compute_y(row, df):\n",
    "    column_tiles = df[df['Column'] == row['Column']].iloc[:row['Row']].Height\n",
    "    return column_tiles.sum()\n",
    "\n",
    "# Apply these functions to each row of the dataframe\n",
    "df['x'] = df.apply(compute_x, axis=1, df=df)\n",
    "df['y'] = df.apply(compute_y, axis=1, df=df)"
   ]
  },
  {
   "cell_type": "code",
   "execution_count": null,
   "metadata": {},
   "outputs": [],
   "source": [
    "df"
   ]
  },
  {
   "cell_type": "code",
   "execution_count": null,
   "metadata": {},
   "outputs": [],
   "source": []
  }
 ],
 "metadata": {
  "kernelspec": {
   "display_name": "histolung",
   "language": "python",
   "name": "python3"
  },
  "language_info": {
   "codemirror_mode": {
    "name": "ipython",
    "version": 3
   },
   "file_extension": ".py",
   "mimetype": "text/x-python",
   "name": "python",
   "nbconvert_exporter": "python",
   "pygments_lexer": "ipython3",
   "version": "3.11.9"
  }
 },
 "nbformat": 4,
 "nbformat_minor": 2
}
